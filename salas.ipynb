{
 "cells": [
  {
   "cell_type": "code",
   "execution_count": 1,
   "id": "153806c8",
   "metadata": {},
   "outputs": [],
   "source": [
    "import camelot\n",
    "import pandas as pd\n",
    "import sqlite3\n",
    "from pandasql import sqldf\n",
    "conn = sqlite3.connect(\"salas.db\")"
   ]
  },
  {
   "cell_type": "code",
   "execution_count": 2,
   "id": "5a66d665",
   "metadata": {},
   "outputs": [],
   "source": [
    "tables = camelot.read_pdf(\"salas.pdf\",pages='all')\n",
    "all_dfs = [table.df for table in tables]\n",
    "combined_df = pd.concat(all_dfs, ignore_index=True)"
   ]
  },
  {
   "cell_type": "code",
   "execution_count": 3,
   "id": "970c1597",
   "metadata": {},
   "outputs": [],
   "source": [
    "combined_df.columns = ['Turma','Disciplina','Departamento','Horário','Preferência','Atribuida','Atendida']"
   ]
  },
  {
   "cell_type": "code",
   "execution_count": 4,
   "id": "286a076c",
   "metadata": {},
   "outputs": [],
   "source": [
    "indices_para_remover = combined_df[combined_df['Turma'].str.contains(\"Turma\", na=False)].index\n",
    "combined_df = combined_df.drop(indices_para_remover).reset_index(drop=True)\n",
    "combined_df = combined_df.drop(columns=['Preferência','Atendida'])"
   ]
  },
  {
   "cell_type": "code",
   "execution_count": 5,
   "id": "d67f1717",
   "metadata": {},
   "outputs": [
    {
     "data": {
      "text/plain": [
       "288"
      ]
     },
     "execution_count": 5,
     "metadata": {},
     "output_type": "execute_result"
    }
   ],
   "source": [
    "combined_df.to_csv(\"salas.csv\", index=False)\n",
    "combined_df.to_excel(\"salas.xlsx\", index=False)\n",
    "combined_df.to_sql(\"salas\", conn, if_exists=\"replace\", index=False)"
   ]
  },
  {
   "cell_type": "code",
   "execution_count": 9,
   "id": "b17a8571",
   "metadata": {},
   "outputs": [],
   "source": [
    "agrupando_por_sala = \"\"\"\n",
    "select Atribuida,\n",
    "GROUP_CONCAT(Horário || ',' || Disciplina,char(10)||char(10)) as disciplina \n",
    "FROM combined_df \n",
    "GROUP BY (Atribuida) \n",
    "ORDER BY Atribuida,Horário\n",
    "\"\"\"\n",
    "result_df = sqldf(agrupando_por_sala,globals())\n",
    "result_df.to_csv(\"salas_agrupadas.csv\", index=False)"
   ]
  }
 ],
 "metadata": {
  "kernelspec": {
   "display_name": "pdf_tabela-sd3Nm4Bl",
   "language": "python",
   "name": "python3"
  },
  "language_info": {
   "codemirror_mode": {
    "name": "ipython",
    "version": 3
   },
   "file_extension": ".py",
   "mimetype": "text/x-python",
   "name": "python",
   "nbconvert_exporter": "python",
   "pygments_lexer": "ipython3",
   "version": "3.12.3"
  }
 },
 "nbformat": 4,
 "nbformat_minor": 5
}
